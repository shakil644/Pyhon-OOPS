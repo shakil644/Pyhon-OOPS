{
  "nbformat": 4,
  "nbformat_minor": 0,
  "metadata": {
    "colab": {
      "provenance": []
    },
    "kernelspec": {
      "name": "python3",
      "display_name": "Python 3"
    },
    "language_info": {
      "name": "python"
    }
  },
  "cells": [
    {
      "cell_type": "markdown",
      "source": [
        "1. What is Object-Oriented Programming (OOP)?\n",
        "   OOP is a programming paradigm based on the concept of “objects,” which contain data (attributes) and code (methods). It promotes encapsulation, inheritance, abstraction, and polymorphism.\n",
        "\n",
        "\n",
        "2. What is a class in OOP?\n",
        "   A class is a blueprint for creating objects.\n",
        "\n",
        "class Car:\n",
        "    def __init__(self, brand):\n",
        "        self.brand = brand\n",
        "3. What is an object in OOP?\n",
        "   An object is an instance of a class.\n",
        "\n",
        "my_car = Car(\"Toyota\")\n",
        "\n",
        "4. Difference between abstraction and encapsulation?\n",
        "   Abstraction hides complexity.\n",
        "\n",
        "Encapsulation hides data.\n",
        "# Encapsulation\n",
        "class Account:\n",
        "    def __init__(self, balance):\n",
        "        self.__balance = balance  # private\n",
        "\n",
        "# Abstraction: user doesn’t know how interest is calculated\n",
        "\n",
        "5. What are dunder methods in Python?\n",
        "   \"Dunder\" methods are special methods with double underscores (e.g., __init__, __str__).\n",
        "\n",
        "class A:\n",
        "    def __str__(self):\n",
        "        return \"Object of A\"\n",
        "6. Explain inheritance in OOP.\n",
        "  Inheritance allows a class to inherit methods and properties from another.\n",
        "\n",
        "class Animal:\n",
        "    def speak(self):\n",
        "        print(\"Animal sound\")\n",
        "\n",
        "class Dog(Animal):\n",
        "    pass\n",
        "7. What is polymorphism in OOP?\n",
        "   Polymorphism allows the same method to behave differently depending on the object.\n",
        "\n",
        "class Cat:\n",
        "    def sound(self):\n",
        "        print(\"Meow\")\n",
        "\n",
        "class Dog:\n",
        "    def sound(self):\n",
        "        print(\"Bark\")\n",
        "8. How is encapsulation achieved in Python?\n",
        "   By making attributes private using __.\n",
        "\n",
        "class Person:\n",
        "    def __init__(self):\n",
        "        self.__age = 30\n",
        "9. What is a constructor in Python?\n",
        "__init__() is the constructor method that initializes the object.\n",
        "\n",
        "class Student:\n",
        "    def __init__(self, name):\n",
        "        self.name = name\n",
        "\n",
        "10. What are class and static methods in Python?\n",
        "\n",
        "class Demo:\n",
        "    @classmethod\n",
        "    def cls_method(cls):\n",
        "        pass\n",
        "\n",
        "    @staticmethod\n",
        "    def static_method():\n",
        "        pass\n",
        "11. What is method overloading in Python?\n",
        "  Python doesn't support traditional method overloading, but it can be simulated.\n",
        "\n",
        "def greet(name=None):\n",
        "    if name:\n",
        "        print(\"Hello \" + name)\n",
        "    else:\n",
        "        print(\"Hello\")\n",
        "12. What is method overriding in OOP?\n",
        "\n",
        "     Child class redefines a method from the parent class.\n",
        "\n",
        "class Parent:\n",
        "    def show(self):\n",
        "        print(\"Parent\")\n",
        "\n",
        "class Child(Parent):\n",
        "    def show(self):\n",
        "        print(\"Child\")\n",
        "13. What is a property decorator in Python?\n",
        "\n",
        "class Person:\n",
        "    def __init__(self, name):\n",
        "        self._name = name\n",
        "\n",
        "    @property\n",
        "    def name(self):\n",
        "        return self._name\n",
        "14. Why is polymorphism important in OOP?\n",
        "\n",
        "   It allows objects of different types to be treated as instances of the same class through a common interface.\n",
        "\n",
        "15. What is an abstract class in Python?\n",
        "\n",
        "  A class that cannot be instantiated directly.\n",
        "\n",
        "from abc import ABC, abstractmethod\n",
        "\n",
        "class Shape(ABC):\n",
        "    @abstractmethod\n",
        "    def area(self):\n",
        "        pass\n",
        "\n",
        "16. What are the advantages of OOP?\n",
        "  Modularity\n",
        "\n",
        "  Code reusability\n",
        "\n",
        "  Easy maintenance\n",
        "\n",
        "  Security (via encapsulation)\n",
        "\n",
        "17. Difference between class variable and instance variable?\n",
        "\n",
        "class Test:\n",
        "    class_var = 0  # Class variable\n",
        "\n",
        "    def __init__(self):\n",
        "        self.instance_var = 1  # Instance variable\n",
        "\n",
        "18. What is multiple inheritance in Python?\n",
        "\n",
        "class A:\n",
        "    pass\n",
        "\n",
        "class B:\n",
        "    pass\n",
        "\n",
        "class C(A, B):  # Multiple inheritance\n",
        "    pass\n",
        "19. Purpose of __str__ and __repr__?\n",
        "\n",
        "class Test:\n",
        "    def __str__(self):\n",
        "        return \"User-friendly\"\n",
        "\n",
        "    def __repr__(self):\n",
        "        return \"Developer-friendly\"\n",
        "20. Significance of super() in Python?\n",
        "\n",
        "class Parent:\n",
        "    def greet(self):\n",
        "        print(\"Hello from Parent\")\n",
        "\n",
        "class Child(Parent):\n",
        "    def greet(self):\n",
        "        super().greet()\n",
        "        print(\"Hello from Child\")\n",
        "21. Significance of __del__() in Python?\n",
        "\n",
        "  Destructor method, called when object is deleted.\n",
        "\n",
        "def __del__(self):\n",
        "    print(\"Object deleted\")\n",
        "22. Difference between @staticmethod and @classmethod?\n",
        "\n",
        "  @staticmethod doesn’t access class or instance.\n",
        "\n",
        "  @classmethod accesses class (cls).\n",
        "\n",
        "23. How does polymorphism work with inheritance?\n",
        "\n",
        "class Animal:\n",
        "    def speak(self):\n",
        "        print(\"Animal sound\")\n",
        "\n",
        "class Dog(Animal):\n",
        "    def speak(self):\n",
        "        print(\"Bark\")\n",
        "24. What is method chaining in Python OOP?\n",
        "\n",
        "class Calc:\n",
        "    def add(self, x):\n",
        "        self.x = x\n",
        "        return self\n",
        "\n",
        "    def square(self):\n",
        "        self.x = self.x ** 2\n",
        "        return self\n",
        "\n",
        "calc = Calc().add(5).square()\n",
        "25. Purpose of __call__() method in Python?\n",
        "\n",
        "class Example:\n",
        "    def __call__(self):\n",
        "        print(\"Called like a function\")\n",
        "\n",
        "obj = Example()\n",
        "obj()  # This will call __call__\n"
      ],
      "metadata": {
        "id": "2nRsHFiyNWtP"
      }
    },
    {
      "cell_type": "markdown",
      "source": [],
      "metadata": {
        "id": "JVEZh6TJP10s"
      }
    },
    {
      "cell_type": "markdown",
      "source": [],
      "metadata": {
        "id": "7k93mn6ZP2Fu"
      }
    },
    {
      "cell_type": "markdown",
      "source": [],
      "metadata": {
        "id": "KiLYFzviP2b7"
      }
    },
    {
      "cell_type": "code",
      "source": [
        "#1. Animal class with Dog override\n",
        "class Animal:\n",
        "    def speak(self):\n",
        "        print(\"Generic animal sound\")\n",
        "\n",
        "class Dog(Animal):\n",
        "    def speak(self):\n",
        "        print(\"Bark\")\n",
        "\n",
        "dog = Dog()\n",
        "dog.speak()\n"
      ],
      "metadata": {
        "colab": {
          "base_uri": "https://localhost:8080/"
        },
        "id": "U1jF-FM3P3aW",
        "outputId": "bb5845d7-cae7-4dd2-c060-8cbf6f8bfc80"
      },
      "execution_count": 1,
      "outputs": [
        {
          "output_type": "stream",
          "name": "stdout",
          "text": [
            "Bark\n"
          ]
        }
      ]
    },
    {
      "cell_type": "code",
      "source": [
        "#2. Abstract class Shape\n",
        "from abc import ABC, abstractmethod\n",
        "\n",
        "class Shape(ABC):\n",
        "    @abstractmethod\n",
        "    def area(self):\n",
        "        pass\n",
        "\n",
        "class Circle(Shape):\n",
        "    def area(self):\n",
        "        return \"Area = πr²\"\n",
        "\n",
        "class Rectangle(Shape):\n",
        "    def area(self):\n",
        "        return \"Area = l × w\"\n",
        "\n",
        "print(Circle().area())\n",
        "print(Rectangle().area())\n"
      ],
      "metadata": {
        "colab": {
          "base_uri": "https://localhost:8080/"
        },
        "id": "lL0DTnnfQg9S",
        "outputId": "dde18551-95e5-459a-8c3e-03c33d9d24b3"
      },
      "execution_count": 2,
      "outputs": [
        {
          "output_type": "stream",
          "name": "stdout",
          "text": [
            "Area = πr²\n",
            "Area = l × w\n"
          ]
        }
      ]
    },
    {
      "cell_type": "code",
      "source": [
        "#3. Multi-level Inheritance: Vehicle > Car > ElectricCar\n",
        "class Vehicle:\n",
        "    def __init__(self, type):\n",
        "        self.type = type\n",
        "\n",
        "class Car(Vehicle):\n",
        "    def __init__(self, type, brand):\n",
        "        super().__init__(type)\n",
        "        self.brand = brand\n",
        "\n",
        "class ElectricCar(Car):\n",
        "    def __init__(self, type, brand, battery):\n",
        "        super().__init__(type, brand)\n",
        "        self.battery = battery\n",
        "\n",
        "e_car = ElectricCar(\"4-wheeler\", \"Tesla\", \"85 kWh\")\n",
        "print(e_car.type, e_car.brand, e_car.battery)\n"
      ],
      "metadata": {
        "colab": {
          "base_uri": "https://localhost:8080/"
        },
        "id": "1h4b7XkQRAZ1",
        "outputId": "670d15fc-d58e-4023-8d4c-1cf0528e0818"
      },
      "execution_count": 3,
      "outputs": [
        {
          "output_type": "stream",
          "name": "stdout",
          "text": [
            "4-wheeler Tesla 85 kWh\n"
          ]
        }
      ]
    },
    {
      "cell_type": "code",
      "source": [
        "#4. Polymorphism with Bird class\n",
        "class Bird:\n",
        "    def fly(self):\n",
        "        print(\"Bird can fly\")\n",
        "\n",
        "class Sparrow(Bird):\n",
        "    def fly(self):\n",
        "        print(\"Sparrow flies high\")\n",
        "\n",
        "class Penguin(Bird):\n",
        "    def fly(self):\n",
        "        print(\"Penguin cannot fly\")\n",
        "\n",
        "for bird in [Sparrow(), Penguin()]:\n",
        "    bird.fly()\n"
      ],
      "metadata": {
        "colab": {
          "base_uri": "https://localhost:8080/"
        },
        "id": "BYph6uqDRLsP",
        "outputId": "c40cc942-db12-4f27-82e9-5093d0898d8e"
      },
      "execution_count": 6,
      "outputs": [
        {
          "output_type": "stream",
          "name": "stdout",
          "text": [
            "Sparrow flies high\n",
            "Penguin cannot fly\n"
          ]
        }
      ]
    },
    {
      "cell_type": "code",
      "source": [
        "#5. BankAccount with encapsulation\n",
        "class BankAccount:\n",
        "    def __init__(self):\n",
        "        self.__balance = 0\n",
        "\n",
        "    def deposit(self, amount):\n",
        "        self.__balance += amount\n",
        "\n",
        "    def withdraw(self, amount):\n",
        "        if amount <= self.__balance:\n",
        "            self.__balance -= amount\n",
        "\n",
        "    def check_balance(self):\n",
        "        return self.__balance\n",
        "\n",
        "acc = BankAccount()\n",
        "acc.deposit(1000)\n",
        "acc.withdraw(500)\n",
        "print(acc.check_balance())\n"
      ],
      "metadata": {
        "colab": {
          "base_uri": "https://localhost:8080/"
        },
        "id": "a1vpVTZcRZvy",
        "outputId": "6a46fc48-b2c7-4816-86b7-afd72ed3ae64"
      },
      "execution_count": 7,
      "outputs": [
        {
          "output_type": "stream",
          "name": "stdout",
          "text": [
            "500\n"
          ]
        }
      ]
    },
    {
      "cell_type": "code",
      "source": [
        "#6. Runtime polymorphism with Instrument\n",
        "class Instrument:\n",
        "    def play(self):\n",
        "        print(\"Playing instrument\")\n",
        "\n",
        "class Guitar(Instrument):\n",
        "    def play(self):\n",
        "        print(\"Strumming guitar\")\n",
        "\n",
        "class Piano(Instrument):\n",
        "    def play(self):\n",
        "        print(\"Playing piano\")\n",
        "\n",
        "for inst in [Guitar(), Piano()]:\n",
        "    inst.play()\n"
      ],
      "metadata": {
        "colab": {
          "base_uri": "https://localhost:8080/"
        },
        "id": "z-njqTzXRzDo",
        "outputId": "f42d3796-1337-47d0-9cfd-e783aa18bf2a"
      },
      "execution_count": 8,
      "outputs": [
        {
          "output_type": "stream",
          "name": "stdout",
          "text": [
            "Strumming guitar\n",
            "Playing piano\n"
          ]
        }
      ]
    },
    {
      "cell_type": "code",
      "source": [
        "#7. MathOperations class with instance and static methods\n",
        "class MathOperations:\n",
        "    def add_numbers(self, a, b):\n",
        "        return a + b\n",
        "\n",
        "    @staticmethod\n",
        "    def subtract_numbers(a, b):\n",
        "        return a - b\n",
        "\n",
        "math = MathOperations()\n",
        "print(math.add_numbers(10, 5))\n",
        "print(MathOperations.subtract_numbers(10, 5))\n"
      ],
      "metadata": {
        "colab": {
          "base_uri": "https://localhost:8080/"
        },
        "id": "fjhtwABbR-23",
        "outputId": "cc9cecf3-1c3a-4963-9e0e-def3d06cb1b2"
      },
      "execution_count": 9,
      "outputs": [
        {
          "output_type": "stream",
          "name": "stdout",
          "text": [
            "15\n",
            "5\n"
          ]
        }
      ]
    },
    {
      "cell_type": "code",
      "source": [
        "#8. Class Person with class method counter\n",
        "class Person:\n",
        "    count = 0\n",
        "\n",
        "    def __init__(self):\n",
        "        Person.count += 1\n",
        "\n",
        "    @classmethod\n",
        "    def total_persons(cls):\n",
        "        return cls.count\n",
        "\n",
        "p1 = Person()\n",
        "p2 = Person()\n",
        "print(Person.total_persons())\n"
      ],
      "metadata": {
        "colab": {
          "base_uri": "https://localhost:8080/"
        },
        "id": "qF_xDYYnSI4-",
        "outputId": "c70e4c36-71ff-4e7a-c600-22a78184cabc"
      },
      "execution_count": 10,
      "outputs": [
        {
          "output_type": "stream",
          "name": "stdout",
          "text": [
            "2\n"
          ]
        }
      ]
    },
    {
      "cell_type": "code",
      "source": [
        "#9. Fraction class with str\n",
        "class Fraction:\n",
        "    def __init__(self, numerator, denominator):\n",
        "        self.numerator = numerator\n",
        "        self.denominator = denominator\n",
        "\n",
        "    def __str__(self):\n",
        "        return f\"{self.numerator}/{self.denominator}\"\n",
        "\n",
        "f = Fraction(3, 4)\n",
        "print(f)\n"
      ],
      "metadata": {
        "colab": {
          "base_uri": "https://localhost:8080/"
        },
        "id": "AmYjvdA1SVb_",
        "outputId": "4c10cc26-77ba-4a80-ff76-6294cfd07b51"
      },
      "execution_count": 11,
      "outputs": [
        {
          "output_type": "stream",
          "name": "stdout",
          "text": [
            "3/4\n"
          ]
        }
      ]
    },
    {
      "cell_type": "code",
      "source": [
        "#10. Operator overloading with Vector\n",
        "class Vector:\n",
        "    def __init__(self, x, y):\n",
        "        self.x = x\n",
        "        self.y = y\n",
        "\n",
        "    def __add__(self, other):\n",
        "        return Vector(self.x + other.x, self.y + other.y)\n",
        "\n",
        "    def __str__(self):\n",
        "        return f\"Vector({self.x}, {self.y})\"\n",
        "\n",
        "v1 = Vector(1, 2)\n",
        "v2 = Vector(3, 4)\n",
        "print(v1 + v2)\n"
      ],
      "metadata": {
        "colab": {
          "base_uri": "https://localhost:8080/"
        },
        "id": "r8mUxvyNSh-m",
        "outputId": "d06e23e5-f693-4e47-8467-97a2c6bf945a"
      },
      "execution_count": 12,
      "outputs": [
        {
          "output_type": "stream",
          "name": "stdout",
          "text": [
            "Vector(4, 6)\n"
          ]
        }
      ]
    },
    {
      "cell_type": "code",
      "source": [
        "#11. Person class with greeting\n",
        "class Person:\n",
        "    def __init__(self, name, age):\n",
        "        self.name = name\n",
        "        self.age = age\n",
        "\n",
        "    def greet(self):\n",
        "        print(f\"Hello, my name is {self.name} and I am {self.age} years old.\")\n",
        "\n",
        "p = Person(\"shakil\", 23)\n",
        "p.greet()\n"
      ],
      "metadata": {
        "colab": {
          "base_uri": "https://localhost:8080/"
        },
        "id": "uBf37061S1Sf",
        "outputId": "14d7c0ff-559c-4d3a-b659-822b8bed1c00"
      },
      "execution_count": 14,
      "outputs": [
        {
          "output_type": "stream",
          "name": "stdout",
          "text": [
            "Hello, my name is shakil and I am 23 years old.\n"
          ]
        }
      ]
    },
    {
      "cell_type": "code",
      "source": [
        "#12. Student class to average grades\n",
        "class Student:\n",
        "    def __init__(self, grades):\n",
        "        self.grades = grades\n",
        "\n",
        "    def average_grade(self):\n",
        "        return sum(self.grades) / len(self.grades)\n",
        "\n",
        "s = Student([80, 90, 100])\n",
        "print(s.average_grade())\n"
      ],
      "metadata": {
        "colab": {
          "base_uri": "https://localhost:8080/"
        },
        "id": "E0r3tisKTCMo",
        "outputId": "b0146229-8502-4fef-b0fb-44686188c1e3"
      },
      "execution_count": 15,
      "outputs": [
        {
          "output_type": "stream",
          "name": "stdout",
          "text": [
            "90.0\n"
          ]
        }
      ]
    },
    {
      "cell_type": "code",
      "source": [
        "#13. Rectangle class with area\n",
        "class Rectangle:\n",
        "    def set_dimensions(self, length, width):\n",
        "        self.length = length\n",
        "        self.width = width\n",
        "\n",
        "    def area(self):\n",
        "        return self.length * self.width\n",
        "\n",
        "rect = Rectangle()\n",
        "rect.set_dimensions(5, 4)\n",
        "print(rect.area())\n"
      ],
      "metadata": {
        "colab": {
          "base_uri": "https://localhost:8080/"
        },
        "id": "CWVpzWClTXDf",
        "outputId": "e8f89ab3-8c1b-4eb0-e721-676b3f1da965"
      },
      "execution_count": 16,
      "outputs": [
        {
          "output_type": "stream",
          "name": "stdout",
          "text": [
            "20\n"
          ]
        }
      ]
    },
    {
      "cell_type": "code",
      "source": [
        "#14. Employee and Manager with salary calculation\n",
        "class Employee:\n",
        "    def __init__(self, hours_worked, hourly_rate):\n",
        "        self.hours = hours_worked\n",
        "        self.rate = hourly_rate\n",
        "\n",
        "    def calculate_salary(self):\n",
        "        return self.hours * self.rate\n",
        "\n",
        "class Manager(Employee):\n",
        "    def __init__(self, hours_worked, hourly_rate, bonus):\n",
        "        super().__init__(hours_worked, hourly_rate)\n",
        "        self.bonus = bonus\n",
        "\n",
        "    def calculate_salary(self):\n",
        "        return super().calculate_salary() + self.bonus\n",
        "\n",
        "mgr = Manager(40, 50, 500)\n",
        "print(mgr.calculate_salary())\n"
      ],
      "metadata": {
        "colab": {
          "base_uri": "https://localhost:8080/"
        },
        "id": "7nmNbb4MThDC",
        "outputId": "15e840e8-680a-4baf-a0c9-494497090492"
      },
      "execution_count": 17,
      "outputs": [
        {
          "output_type": "stream",
          "name": "stdout",
          "text": [
            "2500\n"
          ]
        }
      ]
    },
    {
      "cell_type": "code",
      "source": [
        "#15. Product class with total price calculation\n",
        "class Product:\n",
        "    def __init__(self, name, price, quantity):\n",
        "        self.name = name\n",
        "        self.price = price\n",
        "        self.quantity = quantity\n",
        "\n",
        "    def total_price(self):\n",
        "        return self.price * self.quantity\n",
        "\n",
        "product = Product(\"Laptop\", 50000, 2)\n",
        "print(\"Total Price:\", product.total_price())\n"
      ],
      "metadata": {
        "colab": {
          "base_uri": "https://localhost:8080/"
        },
        "id": "XBXHC-mCTsyF",
        "outputId": "da327ee6-ec02-435c-b896-c0ea3d1ecb68"
      },
      "execution_count": 18,
      "outputs": [
        {
          "output_type": "stream",
          "name": "stdout",
          "text": [
            "Total Price: 100000\n"
          ]
        }
      ]
    },
    {
      "cell_type": "code",
      "source": [
        "#16. Abstract Animal class with Cow and Sheep subclasses\n",
        "from abc import ABC, abstractmethod\n",
        "\n",
        "class Animal(ABC):\n",
        "    @abstractmethod\n",
        "    def sound(self):\n",
        "        pass\n",
        "\n",
        "class Cow(Animal):\n",
        "    def sound(self):\n",
        "        return \"Moo\"\n",
        "\n",
        "class Sheep(Animal):\n",
        "    def sound(self):\n",
        "        return \"Baa\"\n",
        "\n",
        "cow = Cow()\n",
        "sheep = Sheep()\n",
        "\n",
        "print(\"Cow sound:\", cow.sound())\n",
        "print(\"Sheep sound:\", sheep.sound())\n"
      ],
      "metadata": {
        "colab": {
          "base_uri": "https://localhost:8080/"
        },
        "id": "rCw98YE3UD8F",
        "outputId": "4393a75b-539f-4aed-f22a-73d943cbe6e3"
      },
      "execution_count": 19,
      "outputs": [
        {
          "output_type": "stream",
          "name": "stdout",
          "text": [
            "Cow sound: Moo\n",
            "Sheep sound: Baa\n"
          ]
        }
      ]
    },
    {
      "cell_type": "code",
      "source": [
        "#17. Book class with get_book_info()\n",
        "class Book:\n",
        "    def __init__(self, title, author, year_published):\n",
        "        self.title = title\n",
        "        self.author = author\n",
        "        self.year_published = year_published\n",
        "\n",
        "    def get_book_info(self):\n",
        "        return f\"'{self.title}' by {self.author}, published in {self.year_published}\"\n",
        "\n",
        "book = Book(\"1984\", \"George Orwell\", 1949)\n",
        "print(book.get_book_info())\n"
      ],
      "metadata": {
        "colab": {
          "base_uri": "https://localhost:8080/"
        },
        "id": "2I1kYn_aUMia",
        "outputId": "7460b0a2-b737-4a4b-b49b-6491f02a257d"
      },
      "execution_count": 20,
      "outputs": [
        {
          "output_type": "stream",
          "name": "stdout",
          "text": [
            "'1984' by George Orwell, published in 1949\n"
          ]
        }
      ]
    },
    {
      "cell_type": "code",
      "source": [
        "#18. House and Mansion with additional attribute\n",
        "class House:\n",
        "    def __init__(self, address, price):\n",
        "        self.address = address\n",
        "        self.price = price\n",
        "\n",
        "class Mansion(House):\n",
        "    def __init__(self, address, price, number_of_rooms):\n",
        "        super().__init__(address, price)\n",
        "        self.number_of_rooms = number_of_rooms\n",
        "\n",
        "mansion = Mansion(\"123 Elite Ave\", 10000000, 10)\n",
        "print(f\"Mansion at {mansion.address} costs {mansion.price} with {mansion.number_of_rooms} rooms.\")\n"
      ],
      "metadata": {
        "colab": {
          "base_uri": "https://localhost:8080/"
        },
        "id": "4BgknyYvUbRy",
        "outputId": "f50a2cef-e653-463e-f1a0-5e3789d6f9c6"
      },
      "execution_count": 21,
      "outputs": [
        {
          "output_type": "stream",
          "name": "stdout",
          "text": [
            "Mansion at 123 Elite Ave costs 10000000 with 10 rooms.\n"
          ]
        }
      ]
    },
    {
      "cell_type": "code",
      "source": [],
      "metadata": {
        "id": "xM_GBNfrUtXr"
      },
      "execution_count": null,
      "outputs": []
    }
  ]
}